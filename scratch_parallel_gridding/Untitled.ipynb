{
 "cells": [
  {
   "cell_type": "code",
   "execution_count": 4,
   "id": "78d6957c-d03c-4343-b187-f592af74517c",
   "metadata": {},
   "outputs": [],
   "source": [
    "from dask.distributed import Client\n",
    "import dask.array as da"
   ]
  },
  {
   "cell_type": "code",
   "execution_count": 5,
   "id": "3d06edea-1cc7-4262-aa15-38c4f9486c22",
   "metadata": {},
   "outputs": [],
   "source": [
    "client = Client(n_workers=4)"
   ]
  },
  {
   "cell_type": "code",
   "execution_count": null,
   "id": "983d0224-7974-44c0-9605-261a98f1a174",
   "metadata": {},
   "outputs": [],
   "source": [
    "#!/usr/bin/env python3\n",
    "\n",
    "import numpy as np\n",
    "import xarray as xr\n",
    "import zarr as zr\n",
    "import matplotlib.pyplot as plt\n",
    "\n",
    "# speed of light\n",
    "c = 299792458\n",
    "# size of image in pixels\n",
    "image_size = 2048 \n",
    "# size of image on sky, directional cosines\n",
    "theta = 0.0125\n",
    "# dataset path\n",
    "dataset_path = \"./example_simulation.zarr\"\n",
    "# output image name\n",
    "image_name = \"image.png\"\n",
    "\n",
    "def open_dataset(filepath):\n",
    "    dataset = xr.open_zarr(filepath)\n",
    "    return dataset\n",
    "\n",
    "def gridding(dataset):\n",
    "    grid = np.zeros((image_size, image_size), dtype=complex)\n",
    "    \n",
    "    # iterate over time (baseline UW coordinates rotate with earth)\n",
    "    for (uvws, visss) in zip(dataset.UVW, dataset.VISIBILITY):\n",
    "        # iterate over individual baselines (i.e. pair of antennas)\n",
    "        for (uvw, viss) in zip(uvws.compute().data, visss.compute().data):\n",
    "            # iterate over frequencies\n",
    "            for (freq, vis) in zip(dataset.frequency.data, viss):\n",
    "                # calculate position in wavelengths\n",
    "                iu = round(theta * uvw[0] * freq / c)\n",
    "                iv = round(theta * uvw[1] * freq / c)\n",
    "                # accumulate visibility at approximate location in the grid\n",
    "                grid[iu + image_size//2, iv + image_size//2] += vis\n",
    "\n",
    "    return grid\n",
    "\n",
    "def fourier_transform(grid):\n",
    "    image = np.fft.fftshift(np.fft.ifft2(np.fft.ifftshift(grid))).real\n",
    "    return image\n",
    "\n",
    "def save_image(image):\n",
    "    plt.figure(figsize=(16, 16))\n",
    "    plt.imsave(\"image.png\", image_name)\n",
    "\n",
    "def main():\n",
    "    dataset = open_dataset(dataset_path)\n",
    "    grid = gridding(dataset)\n",
    "    image = fourier_transform(grid)\n",
    "    save_image(image)\n",
    "\n",
    "if __name__ == \"__main__\":\n",
    "    main()"
   ]
  }
 ],
 "metadata": {
  "kernelspec": {
   "display_name": "Python 3 (ipykernel)",
   "language": "python",
   "name": "python3"
  },
  "language_info": {
   "codemirror_mode": {
    "name": "ipython",
    "version": 3
   },
   "file_extension": ".py",
   "mimetype": "text/x-python",
   "name": "python",
   "nbconvert_exporter": "python",
   "pygments_lexer": "ipython3",
   "version": "3.12.3"
  }
 },
 "nbformat": 4,
 "nbformat_minor": 5
}
